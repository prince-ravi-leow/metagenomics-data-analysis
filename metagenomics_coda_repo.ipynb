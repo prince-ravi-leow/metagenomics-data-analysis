{
 "cells": [
  {
   "cell_type": "markdown",
   "metadata": {
    "id": "BD3SrQXpQhyP"
   },
   "source": [
    "# Metagenomics: Compositional Data Analysis"
   ]
  },
  {
   "cell_type": "code",
   "execution_count": 13,
   "metadata": {},
   "outputs": [],
   "source": [
    "# Export nb with no code input: \n",
    "# jupyter nbconvert *.ipynb --to html --no-input\n"
   ]
  },
  {
   "cell_type": "code",
   "execution_count": 14,
   "metadata": {
    "colab": {
     "base_uri": "https://localhost:8080/",
     "height": 374
    },
    "executionInfo": {
     "elapsed": 4,
     "status": "error",
     "timestamp": 1670411502165,
     "user": {
      "displayName": "whelixw",
      "userId": "13963986519343870759"
     },
     "user_tz": -60
    },
    "id": "8X-MVEQVQhyU",
    "outputId": "8b7fb2c0-fd0d-4e40-e5f2-3435bdd7df06"
   },
   "outputs": [],
   "source": [
    "## Import libraries\n",
    "\n",
    "import pandas as pd\n",
    "import numpy as np\n",
    "import matplotlib.pyplot as plt\n",
    "import seaborn as sns\n",
    "import sys"
   ]
  },
  {
   "cell_type": "code",
   "execution_count": 15,
   "metadata": {},
   "outputs": [],
   "source": [
    "## Supress warnings due to Python version shennanigans\n",
    "\n",
    "# Pandas 'caveats': https://stackoverflow.com/questions/20625582/how-to-deal-with-settingwithcopywarning-in-pandas\n",
    "pd.options.mode.chained_assignment = None  # default='warn'\n",
    "\n",
    "# Suppress stderror in iPython cell (adapted from): https://stackoverflow.com/questions/9031783/hide-all-warnings-in-ipython \n",
    "from IPython.display import HTML\n",
    "\n",
    "# Suppress FutureWarning from numpy (adapted from): https://stackoverflow.com/questions/57704412/how-to-suppress-future-warning-tensorflow\n",
    "import warnings\n",
    "warnings.filterwarnings(\"ignore\", category=FutureWarning)"
   ]
  },
  {
   "cell_type": "markdown",
   "metadata": {},
   "source": [
    "Python and package versions at time of writing:"
   ]
  },
  {
   "cell_type": "code",
   "execution_count": 16,
   "metadata": {},
   "outputs": [
    {
     "name": "stdout",
     "output_type": "stream",
     "text": [
      "Python version:\n",
      "3.10.7 (tags/v3.10.7:6cc6b13, Sep  5 2022, 14:08:36) [MSC v.1933 64 bit (AMD64)]\n",
      "matplotlib==3.6.2\n",
      "numpy==1.23.3\n",
      "pandas==1.4.4\n"
     ]
    }
   ],
   "source": [
    "## Package versions at time of writing\n",
    "# As of 2022-11-08, everything works\n",
    "\n",
    "print(\"Python version:\")\n",
    "print(sys.version)\n",
    "\n",
    "# Script source for listing imported packages: https://stackoverflow.com/questions/40428931/package-for-listing-version-of-packages-used-in-a-jupyter-notebook\n",
    "import pkg_resources\n",
    "import types\n",
    "def get_imports():\n",
    "    for name, val in globals().items():\n",
    "        if isinstance(val, types.ModuleType):\n",
    "            # Split ensures you get root package, \n",
    "            # not just imported function\n",
    "            name = val.__name__.split(\".\")[0]\n",
    "\n",
    "        elif isinstance(val, type):\n",
    "            name = val.__module__.split(\".\")[0]\n",
    "\n",
    "        # Some packages are weird and have different\n",
    "        # imported names vs. system/pip names. Unfortunately,\n",
    "        # there is no systematic way to get pip names from\n",
    "        # a package's imported name. You'll have to add\n",
    "        # exceptions to this list manually!\n",
    "        poorly_named_packages = {\n",
    "            \"PIL\": \"Pillow\",\n",
    "            \"sklearn\": \"scikit-learn\"\n",
    "        }\n",
    "        if name in poorly_named_packages.keys():\n",
    "            name = poorly_named_packages[name]\n",
    "\n",
    "        yield name\n",
    "imports = list(set(get_imports()))\n",
    "\n",
    "# The only way I found to get the version of the root package\n",
    "# from only the name of the package is to cross-check the names \n",
    "# of installed packages vs. imported packages\n",
    "requirements = []\n",
    "for m in pkg_resources.working_set:\n",
    "    if m.project_name in imports and m.project_name!=\"pip\":\n",
    "        requirements.append((m.project_name, m.version))\n",
    "\n",
    "for r in requirements:\n",
    "    print(\"{}=={}\".format(*r))"
   ]
  },
  {
   "cell_type": "markdown",
   "metadata": {
    "id": "inbjSNwlQhyV"
   },
   "source": [
    "## Resfinder\n",
    "***"
   ]
  },
  {
   "cell_type": "markdown",
   "metadata": {
    "id": "2qgLXE2XQhyV"
   },
   "source": [
    "**`resfinder` dataframe pre-prepared by running the python script (`mapstat_abundance.py`) on the mapstat files.**\n",
    "\n",
    "**Resfinder AMR fragments isolated for each sample:**"
   ]
  },
  {
   "cell_type": "code",
   "execution_count": 17,
   "metadata": {
    "id": "4no3Z7LwQhyW",
    "outputId": "d715f5e3-2813-417e-8e62-4295560372ae"
   },
   "outputs": [],
   "source": [
    "# Reading in resfinder and 'pivotting' or 'transposing' dimensions\n",
    "# Note: The values in 'SampleX' are 'abundace' or 'number of fragments' (from the fragmentCountAln column)\n",
    "resfinder = pd.read_csv('./resfinder/resfinder_abundance_table_24_25_38.csv')\n",
    "resfinder_headers = list(resfinder.columns)\n",
    "resfinder_transposed = resfinder.transpose()\n",
    "resfinder_transposed['Gene'] = resfinder.columns\n",
    "resfinder_transposed = resfinder_transposed.reset_index(drop=True)\n",
    "resfinder_transposed.columns = ['Sample24', 'Sample25', 'Sample38', 'Gene']\n",
    "# resfinder_transposed"
   ]
  },
  {
   "cell_type": "code",
   "execution_count": 18,
   "metadata": {
    "id": "DynWNP3rQhyX",
    "outputId": "d5c969cd-c7a0-4629-da26-ebe149a26469"
   },
   "outputs": [
    {
     "name": "stdout",
     "output_type": "stream",
     "text": [
      "Resfinder sample 24\n"
     ]
    },
    {
     "data": {
      "text/html": [
       "<div>\n",
       "<style scoped>\n",
       "    .dataframe tbody tr th:only-of-type {\n",
       "        vertical-align: middle;\n",
       "    }\n",
       "\n",
       "    .dataframe tbody tr th {\n",
       "        vertical-align: top;\n",
       "    }\n",
       "\n",
       "    .dataframe thead th {\n",
       "        text-align: right;\n",
       "    }\n",
       "</style>\n",
       "<table border=\"1\" class=\"dataframe\">\n",
       "  <thead>\n",
       "    <tr style=\"text-align: right;\">\n",
       "      <th></th>\n",
       "      <th>Abundance</th>\n",
       "      <th>Gene</th>\n",
       "    </tr>\n",
       "  </thead>\n",
       "  <tbody>\n",
       "    <tr>\n",
       "      <th>0</th>\n",
       "      <td>117.0</td>\n",
       "      <td>Cfr(E)_1_NG_070225</td>\n",
       "    </tr>\n",
       "    <tr>\n",
       "      <th>1</th>\n",
       "      <td>30.0</td>\n",
       "      <td>VanG2XY_1_FJ872410</td>\n",
       "    </tr>\n",
       "    <tr>\n",
       "      <th>2</th>\n",
       "      <td>6.0</td>\n",
       "      <td>VanGXY_1_AY271782</td>\n",
       "    </tr>\n",
       "    <tr>\n",
       "      <th>3</th>\n",
       "      <td>0.0</td>\n",
       "      <td>VanHBX_1_AF192329</td>\n",
       "    </tr>\n",
       "    <tr>\n",
       "      <th>4</th>\n",
       "      <td>0.0</td>\n",
       "      <td>aac(6')-Im_1_AF337947</td>\n",
       "    </tr>\n",
       "    <tr>\n",
       "      <th>...</th>\n",
       "      <td>...</td>\n",
       "      <td>...</td>\n",
       "    </tr>\n",
       "    <tr>\n",
       "      <th>104</th>\n",
       "      <td>0.0</td>\n",
       "      <td>tet(X5)_1_CP040912</td>\n",
       "    </tr>\n",
       "    <tr>\n",
       "      <th>105</th>\n",
       "      <td>33.0</td>\n",
       "      <td>tetA(P)_1_AB054980</td>\n",
       "    </tr>\n",
       "    <tr>\n",
       "      <th>106</th>\n",
       "      <td>86.0</td>\n",
       "      <td>tetA(P)_2_L20800</td>\n",
       "    </tr>\n",
       "    <tr>\n",
       "      <th>107</th>\n",
       "      <td>92.0</td>\n",
       "      <td>tetB(P)_1_NC_010937</td>\n",
       "    </tr>\n",
       "    <tr>\n",
       "      <th>108</th>\n",
       "      <td>10.0</td>\n",
       "      <td>vat(E)_5_AJ488494</td>\n",
       "    </tr>\n",
       "  </tbody>\n",
       "</table>\n",
       "<p>109 rows × 2 columns</p>\n",
       "</div>"
      ],
      "text/plain": [
       "     Abundance                   Gene\n",
       "0        117.0     Cfr(E)_1_NG_070225\n",
       "1         30.0     VanG2XY_1_FJ872410\n",
       "2          6.0      VanGXY_1_AY271782\n",
       "3          0.0      VanHBX_1_AF192329\n",
       "4          0.0  aac(6')-Im_1_AF337947\n",
       "..         ...                    ...\n",
       "104        0.0     tet(X5)_1_CP040912\n",
       "105       33.0     tetA(P)_1_AB054980\n",
       "106       86.0       tetA(P)_2_L20800\n",
       "107       92.0    tetB(P)_1_NC_010937\n",
       "108       10.0      vat(E)_5_AJ488494\n",
       "\n",
       "[109 rows x 2 columns]"
      ]
     },
     "metadata": {},
     "output_type": "display_data"
    },
    {
     "name": "stdout",
     "output_type": "stream",
     "text": [
      "Resfinder sample 25\n"
     ]
    },
    {
     "data": {
      "text/html": [
       "<div>\n",
       "<style scoped>\n",
       "    .dataframe tbody tr th:only-of-type {\n",
       "        vertical-align: middle;\n",
       "    }\n",
       "\n",
       "    .dataframe tbody tr th {\n",
       "        vertical-align: top;\n",
       "    }\n",
       "\n",
       "    .dataframe thead th {\n",
       "        text-align: right;\n",
       "    }\n",
       "</style>\n",
       "<table border=\"1\" class=\"dataframe\">\n",
       "  <thead>\n",
       "    <tr style=\"text-align: right;\">\n",
       "      <th></th>\n",
       "      <th>Abundance</th>\n",
       "      <th>Gene</th>\n",
       "    </tr>\n",
       "  </thead>\n",
       "  <tbody>\n",
       "    <tr>\n",
       "      <th>0</th>\n",
       "      <td>532.0</td>\n",
       "      <td>Cfr(E)_1_NG_070225</td>\n",
       "    </tr>\n",
       "    <tr>\n",
       "      <th>1</th>\n",
       "      <td>66.0</td>\n",
       "      <td>VanG2XY_1_FJ872410</td>\n",
       "    </tr>\n",
       "    <tr>\n",
       "      <th>2</th>\n",
       "      <td>33.0</td>\n",
       "      <td>VanGXY_1_AY271782</td>\n",
       "    </tr>\n",
       "    <tr>\n",
       "      <th>3</th>\n",
       "      <td>24.0</td>\n",
       "      <td>VanHBX_1_AF192329</td>\n",
       "    </tr>\n",
       "    <tr>\n",
       "      <th>4</th>\n",
       "      <td>0.0</td>\n",
       "      <td>aac(6')-Im_1_AF337947</td>\n",
       "    </tr>\n",
       "    <tr>\n",
       "      <th>...</th>\n",
       "      <td>...</td>\n",
       "      <td>...</td>\n",
       "    </tr>\n",
       "    <tr>\n",
       "      <th>104</th>\n",
       "      <td>26.0</td>\n",
       "      <td>tet(X5)_1_CP040912</td>\n",
       "    </tr>\n",
       "    <tr>\n",
       "      <th>105</th>\n",
       "      <td>46.0</td>\n",
       "      <td>tetA(P)_1_AB054980</td>\n",
       "    </tr>\n",
       "    <tr>\n",
       "      <th>106</th>\n",
       "      <td>207.0</td>\n",
       "      <td>tetA(P)_2_L20800</td>\n",
       "    </tr>\n",
       "    <tr>\n",
       "      <th>107</th>\n",
       "      <td>34.0</td>\n",
       "      <td>tetB(P)_1_NC_010937</td>\n",
       "    </tr>\n",
       "    <tr>\n",
       "      <th>108</th>\n",
       "      <td>0.0</td>\n",
       "      <td>vat(E)_5_AJ488494</td>\n",
       "    </tr>\n",
       "  </tbody>\n",
       "</table>\n",
       "<p>109 rows × 2 columns</p>\n",
       "</div>"
      ],
      "text/plain": [
       "     Abundance                   Gene\n",
       "0        532.0     Cfr(E)_1_NG_070225\n",
       "1         66.0     VanG2XY_1_FJ872410\n",
       "2         33.0      VanGXY_1_AY271782\n",
       "3         24.0      VanHBX_1_AF192329\n",
       "4          0.0  aac(6')-Im_1_AF337947\n",
       "..         ...                    ...\n",
       "104       26.0     tet(X5)_1_CP040912\n",
       "105       46.0     tetA(P)_1_AB054980\n",
       "106      207.0       tetA(P)_2_L20800\n",
       "107       34.0    tetB(P)_1_NC_010937\n",
       "108        0.0      vat(E)_5_AJ488494\n",
       "\n",
       "[109 rows x 2 columns]"
      ]
     },
     "metadata": {},
     "output_type": "display_data"
    },
    {
     "name": "stdout",
     "output_type": "stream",
     "text": [
      "Resfinder sample 38\n"
     ]
    },
    {
     "data": {
      "text/html": [
       "<div>\n",
       "<style scoped>\n",
       "    .dataframe tbody tr th:only-of-type {\n",
       "        vertical-align: middle;\n",
       "    }\n",
       "\n",
       "    .dataframe tbody tr th {\n",
       "        vertical-align: top;\n",
       "    }\n",
       "\n",
       "    .dataframe thead th {\n",
       "        text-align: right;\n",
       "    }\n",
       "</style>\n",
       "<table border=\"1\" class=\"dataframe\">\n",
       "  <thead>\n",
       "    <tr style=\"text-align: right;\">\n",
       "      <th></th>\n",
       "      <th>Abundance</th>\n",
       "      <th>Gene</th>\n",
       "    </tr>\n",
       "  </thead>\n",
       "  <tbody>\n",
       "    <tr>\n",
       "      <th>0</th>\n",
       "      <td>78.0</td>\n",
       "      <td>Cfr(E)_1_NG_070225</td>\n",
       "    </tr>\n",
       "    <tr>\n",
       "      <th>1</th>\n",
       "      <td>19.0</td>\n",
       "      <td>VanG2XY_1_FJ872410</td>\n",
       "    </tr>\n",
       "    <tr>\n",
       "      <th>2</th>\n",
       "      <td>0.0</td>\n",
       "      <td>VanGXY_1_AY271782</td>\n",
       "    </tr>\n",
       "    <tr>\n",
       "      <th>3</th>\n",
       "      <td>0.0</td>\n",
       "      <td>VanHBX_1_AF192329</td>\n",
       "    </tr>\n",
       "    <tr>\n",
       "      <th>4</th>\n",
       "      <td>3.0</td>\n",
       "      <td>aac(6')-Im_1_AF337947</td>\n",
       "    </tr>\n",
       "    <tr>\n",
       "      <th>...</th>\n",
       "      <td>...</td>\n",
       "      <td>...</td>\n",
       "    </tr>\n",
       "    <tr>\n",
       "      <th>104</th>\n",
       "      <td>0.0</td>\n",
       "      <td>tet(X5)_1_CP040912</td>\n",
       "    </tr>\n",
       "    <tr>\n",
       "      <th>105</th>\n",
       "      <td>5.0</td>\n",
       "      <td>tetA(P)_1_AB054980</td>\n",
       "    </tr>\n",
       "    <tr>\n",
       "      <th>106</th>\n",
       "      <td>30.0</td>\n",
       "      <td>tetA(P)_2_L20800</td>\n",
       "    </tr>\n",
       "    <tr>\n",
       "      <th>107</th>\n",
       "      <td>7.0</td>\n",
       "      <td>tetB(P)_1_NC_010937</td>\n",
       "    </tr>\n",
       "    <tr>\n",
       "      <th>108</th>\n",
       "      <td>0.0</td>\n",
       "      <td>vat(E)_5_AJ488494</td>\n",
       "    </tr>\n",
       "  </tbody>\n",
       "</table>\n",
       "<p>109 rows × 2 columns</p>\n",
       "</div>"
      ],
      "text/plain": [
       "     Abundance                   Gene\n",
       "0         78.0     Cfr(E)_1_NG_070225\n",
       "1         19.0     VanG2XY_1_FJ872410\n",
       "2          0.0      VanGXY_1_AY271782\n",
       "3          0.0      VanHBX_1_AF192329\n",
       "4          3.0  aac(6')-Im_1_AF337947\n",
       "..         ...                    ...\n",
       "104        0.0     tet(X5)_1_CP040912\n",
       "105        5.0     tetA(P)_1_AB054980\n",
       "106       30.0       tetA(P)_2_L20800\n",
       "107        7.0    tetB(P)_1_NC_010937\n",
       "108        0.0      vat(E)_5_AJ488494\n",
       "\n",
       "[109 rows x 2 columns]"
      ]
     },
     "metadata": {},
     "output_type": "display_data"
    }
   ],
   "source": [
    "# Isolating each sample into its own dataframe\n",
    "\n",
    "resfinder_24 = resfinder_transposed[['Sample24','Gene']]\n",
    "resfinder_25 = resfinder_transposed[['Sample25','Gene']]\n",
    "resfinder_38 = resfinder_transposed[['Sample38','Gene']]\n",
    "\n",
    "resfinder_24.rename(columns={\"Sample24\":\"Abundance\"}, inplace=True)\n",
    "resfinder_25.rename(columns={\"Sample25\":\"Abundance\"}, inplace=True)\n",
    "resfinder_38.rename(columns={\"Sample38\":\"Abundance\"}, inplace=True)\n",
    "\n",
    "print(\"Resfinder sample 24\")\n",
    "display(resfinder_24)\n",
    "print(\"Resfinder sample 25\")\n",
    "display(resfinder_25)\n",
    "print(\"Resfinder sample 38\")\n",
    "display(resfinder_38)"
   ]
  },
  {
   "cell_type": "markdown",
   "metadata": {},
   "source": [
    "**Dataframe info:**"
   ]
  },
  {
   "cell_type": "code",
   "execution_count": 19,
   "metadata": {
    "id": "6vOP-HMVQhyY",
    "outputId": "cc522b4d-cb1b-4b5e-e868-510aa913b380"
   },
   "outputs": [
    {
     "name": "stdout",
     "output_type": "stream",
     "text": [
      "<class 'pandas.core.frame.DataFrame'>\n",
      "RangeIndex: 3 entries, 0 to 2\n",
      "Columns: 109 entries, Cfr(E)_1_NG_070225 to vat(E)_5_AJ488494\n",
      "dtypes: float64(109)"
     ]
    }
   ],
   "source": [
    "# Dataframe info\n",
    "resfinder.info(memory_usage=False)"
   ]
  },
  {
   "cell_type": "markdown",
   "metadata": {
    "id": "g89rbJugQhyZ"
   },
   "source": [
    "**There are >100 headers, so we want to 'amalgamate' AMR gene classes eventually.**"
   ]
  },
  {
   "cell_type": "markdown",
   "metadata": {
    "id": "qvFiLt9CQhya"
   },
   "source": [
    "**Using the `ResFinder_classes.tsv`, we can find our how many unique class groups there are.**"
   ]
  },
  {
   "cell_type": "code",
   "execution_count": 20,
   "metadata": {
    "id": "Ufhi-BV-Qhyb",
    "outputId": "bf707359-c2cf-4425-aa99-01faabd22ba2"
   },
   "outputs": [
    {
     "data": {
      "text/plain": [
       "Index(['Phenicol', 'Glycopeptide', 'Aminoglycoside', 'Beta-Lactam',\n",
       "       'Macrolide', 'Nitroimidazole', 'Sulphonamide', 'Tetracycline',\n",
       "       'tet(O/32/O)_6_NG_048124'],\n",
       "      dtype='object')"
      ]
     },
     "execution_count": 20,
     "metadata": {},
     "output_type": "execute_result"
    }
   ],
   "source": [
    "# Loading Resfinder classes dataset as dataframe\n",
    "resfinder_classes = pd.read_csv('./resfinder/ResFinder_classes.tsv', sep='\\t', header=None, names=['Gene','Class'])\n",
    "# Creating dict, for renaming columns\n",
    "dict_resfinder_classes = resfinder_classes.set_index('Gene')['Class'].to_dict() \n",
    "# Sorting genes into classes \n",
    "resfinder_classes_renamed = resfinder.rename(columns=dict_resfinder_classes)\n",
    "# Unique classes\n",
    "resfinder_classes_renamed.columns.unique()"
   ]
  },
  {
   "cell_type": "markdown",
   "metadata": {
    "id": "XqLzDweNQhyc"
   },
   "source": [
    "**There are 8 unique classes (a 9th one that seems to fit into Tetracycline - we could merge it, or discard it).**\n",
    "\n",
    "**We need the fragment length data (found in dataframe: `ResFinder.length`) and their corresponding gene names (`ResFinder.name`) for CoDa later on.** \n",
    "\n",
    "**After merging `resfinder_{24,25,38}` with the fragment length + gene names dataframes, and performing an amalgamation (by simply summing values belonging to the same gene class), we get the following dataframes:**"
   ]
  },
  {
   "cell_type": "code",
   "execution_count": 21,
   "metadata": {
    "id": "9zdMbA3VQhyc",
    "outputId": "ed315e1a-d183-4d0e-83e0-3788734e83fe",
    "scrolled": true
   },
   "outputs": [
    {
     "name": "stdout",
     "output_type": "stream",
     "text": [
      "Sample 24 with AMR class and fragment Length data\n"
     ]
    },
    {
     "data": {
      "text/html": [
       "<div>\n",
       "<style scoped>\n",
       "    .dataframe tbody tr th:only-of-type {\n",
       "        vertical-align: middle;\n",
       "    }\n",
       "\n",
       "    .dataframe tbody tr th {\n",
       "        vertical-align: top;\n",
       "    }\n",
       "\n",
       "    .dataframe thead th {\n",
       "        text-align: right;\n",
       "    }\n",
       "</style>\n",
       "<table border=\"1\" class=\"dataframe\">\n",
       "  <thead>\n",
       "    <tr style=\"text-align: right;\">\n",
       "      <th></th>\n",
       "      <th>Abundance</th>\n",
       "      <th>Gene</th>\n",
       "      <th>Class</th>\n",
       "      <th>Length</th>\n",
       "    </tr>\n",
       "  </thead>\n",
       "  <tbody>\n",
       "    <tr>\n",
       "      <th>0</th>\n",
       "      <td>117.0</td>\n",
       "      <td>Cfr(E)_1_NG_070225</td>\n",
       "      <td>Phenicol</td>\n",
       "      <td>1035</td>\n",
       "    </tr>\n",
       "    <tr>\n",
       "      <th>1</th>\n",
       "      <td>30.0</td>\n",
       "      <td>VanG2XY_1_FJ872410</td>\n",
       "      <td>Glycopeptide</td>\n",
       "      <td>1811</td>\n",
       "    </tr>\n",
       "    <tr>\n",
       "      <th>2</th>\n",
       "      <td>6.0</td>\n",
       "      <td>VanGXY_1_AY271782</td>\n",
       "      <td>Glycopeptide</td>\n",
       "      <td>1811</td>\n",
       "    </tr>\n",
       "    <tr>\n",
       "      <th>3</th>\n",
       "      <td>0.0</td>\n",
       "      <td>VanHBX_1_AF192329</td>\n",
       "      <td>Glycopeptide</td>\n",
       "      <td>2607</td>\n",
       "    </tr>\n",
       "    <tr>\n",
       "      <th>4</th>\n",
       "      <td>0.0</td>\n",
       "      <td>aac(6')-Im_1_AF337947</td>\n",
       "      <td>Aminoglycoside</td>\n",
       "      <td>537</td>\n",
       "    </tr>\n",
       "    <tr>\n",
       "      <th>...</th>\n",
       "      <td>...</td>\n",
       "      <td>...</td>\n",
       "      <td>...</td>\n",
       "      <td>...</td>\n",
       "    </tr>\n",
       "    <tr>\n",
       "      <th>104</th>\n",
       "      <td>0.0</td>\n",
       "      <td>tet(X5)_1_CP040912</td>\n",
       "      <td>Tetracycline</td>\n",
       "      <td>1167</td>\n",
       "    </tr>\n",
       "    <tr>\n",
       "      <th>105</th>\n",
       "      <td>33.0</td>\n",
       "      <td>tetA(P)_1_AB054980</td>\n",
       "      <td>Tetracycline</td>\n",
       "      <td>1263</td>\n",
       "    </tr>\n",
       "    <tr>\n",
       "      <th>106</th>\n",
       "      <td>86.0</td>\n",
       "      <td>tetA(P)_2_L20800</td>\n",
       "      <td>Tetracycline</td>\n",
       "      <td>1263</td>\n",
       "    </tr>\n",
       "    <tr>\n",
       "      <th>107</th>\n",
       "      <td>92.0</td>\n",
       "      <td>tetB(P)_1_NC_010937</td>\n",
       "      <td>Tetracycline</td>\n",
       "      <td>1959</td>\n",
       "    </tr>\n",
       "    <tr>\n",
       "      <th>108</th>\n",
       "      <td>10.0</td>\n",
       "      <td>vat(E)_5_AJ488494</td>\n",
       "      <td>Macrolide</td>\n",
       "      <td>645</td>\n",
       "    </tr>\n",
       "  </tbody>\n",
       "</table>\n",
       "<p>109 rows × 4 columns</p>\n",
       "</div>"
      ],
      "text/plain": [
       "     Abundance                   Gene           Class  Length\n",
       "0        117.0     Cfr(E)_1_NG_070225        Phenicol    1035\n",
       "1         30.0     VanG2XY_1_FJ872410    Glycopeptide    1811\n",
       "2          6.0      VanGXY_1_AY271782    Glycopeptide    1811\n",
       "3          0.0      VanHBX_1_AF192329    Glycopeptide    2607\n",
       "4          0.0  aac(6')-Im_1_AF337947  Aminoglycoside     537\n",
       "..         ...                    ...             ...     ...\n",
       "104        0.0     tet(X5)_1_CP040912    Tetracycline    1167\n",
       "105       33.0     tetA(P)_1_AB054980    Tetracycline    1263\n",
       "106       86.0       tetA(P)_2_L20800    Tetracycline    1263\n",
       "107       92.0    tetB(P)_1_NC_010937    Tetracycline    1959\n",
       "108       10.0      vat(E)_5_AJ488494       Macrolide     645\n",
       "\n",
       "[109 rows x 4 columns]"
      ]
     },
     "metadata": {},
     "output_type": "display_data"
    },
    {
     "name": "stdout",
     "output_type": "stream",
     "text": [
      "Sample 25 with AMR class and fragment Length data\n"
     ]
    },
    {
     "data": {
      "text/html": [
       "<div>\n",
       "<style scoped>\n",
       "    .dataframe tbody tr th:only-of-type {\n",
       "        vertical-align: middle;\n",
       "    }\n",
       "\n",
       "    .dataframe tbody tr th {\n",
       "        vertical-align: top;\n",
       "    }\n",
       "\n",
       "    .dataframe thead th {\n",
       "        text-align: right;\n",
       "    }\n",
       "</style>\n",
       "<table border=\"1\" class=\"dataframe\">\n",
       "  <thead>\n",
       "    <tr style=\"text-align: right;\">\n",
       "      <th></th>\n",
       "      <th>Abundance</th>\n",
       "      <th>Gene</th>\n",
       "      <th>Class</th>\n",
       "      <th>Length</th>\n",
       "    </tr>\n",
       "  </thead>\n",
       "  <tbody>\n",
       "    <tr>\n",
       "      <th>0</th>\n",
       "      <td>532.0</td>\n",
       "      <td>Cfr(E)_1_NG_070225</td>\n",
       "      <td>Phenicol</td>\n",
       "      <td>1035</td>\n",
       "    </tr>\n",
       "    <tr>\n",
       "      <th>1</th>\n",
       "      <td>66.0</td>\n",
       "      <td>VanG2XY_1_FJ872410</td>\n",
       "      <td>Glycopeptide</td>\n",
       "      <td>1811</td>\n",
       "    </tr>\n",
       "    <tr>\n",
       "      <th>2</th>\n",
       "      <td>33.0</td>\n",
       "      <td>VanGXY_1_AY271782</td>\n",
       "      <td>Glycopeptide</td>\n",
       "      <td>1811</td>\n",
       "    </tr>\n",
       "    <tr>\n",
       "      <th>3</th>\n",
       "      <td>24.0</td>\n",
       "      <td>VanHBX_1_AF192329</td>\n",
       "      <td>Glycopeptide</td>\n",
       "      <td>2607</td>\n",
       "    </tr>\n",
       "    <tr>\n",
       "      <th>4</th>\n",
       "      <td>0.0</td>\n",
       "      <td>aac(6')-Im_1_AF337947</td>\n",
       "      <td>Aminoglycoside</td>\n",
       "      <td>537</td>\n",
       "    </tr>\n",
       "    <tr>\n",
       "      <th>...</th>\n",
       "      <td>...</td>\n",
       "      <td>...</td>\n",
       "      <td>...</td>\n",
       "      <td>...</td>\n",
       "    </tr>\n",
       "    <tr>\n",
       "      <th>104</th>\n",
       "      <td>26.0</td>\n",
       "      <td>tet(X5)_1_CP040912</td>\n",
       "      <td>Tetracycline</td>\n",
       "      <td>1167</td>\n",
       "    </tr>\n",
       "    <tr>\n",
       "      <th>105</th>\n",
       "      <td>46.0</td>\n",
       "      <td>tetA(P)_1_AB054980</td>\n",
       "      <td>Tetracycline</td>\n",
       "      <td>1263</td>\n",
       "    </tr>\n",
       "    <tr>\n",
       "      <th>106</th>\n",
       "      <td>207.0</td>\n",
       "      <td>tetA(P)_2_L20800</td>\n",
       "      <td>Tetracycline</td>\n",
       "      <td>1263</td>\n",
       "    </tr>\n",
       "    <tr>\n",
       "      <th>107</th>\n",
       "      <td>34.0</td>\n",
       "      <td>tetB(P)_1_NC_010937</td>\n",
       "      <td>Tetracycline</td>\n",
       "      <td>1959</td>\n",
       "    </tr>\n",
       "    <tr>\n",
       "      <th>108</th>\n",
       "      <td>0.0</td>\n",
       "      <td>vat(E)_5_AJ488494</td>\n",
       "      <td>Macrolide</td>\n",
       "      <td>645</td>\n",
       "    </tr>\n",
       "  </tbody>\n",
       "</table>\n",
       "<p>109 rows × 4 columns</p>\n",
       "</div>"
      ],
      "text/plain": [
       "     Abundance                   Gene           Class  Length\n",
       "0        532.0     Cfr(E)_1_NG_070225        Phenicol    1035\n",
       "1         66.0     VanG2XY_1_FJ872410    Glycopeptide    1811\n",
       "2         33.0      VanGXY_1_AY271782    Glycopeptide    1811\n",
       "3         24.0      VanHBX_1_AF192329    Glycopeptide    2607\n",
       "4          0.0  aac(6')-Im_1_AF337947  Aminoglycoside     537\n",
       "..         ...                    ...             ...     ...\n",
       "104       26.0     tet(X5)_1_CP040912    Tetracycline    1167\n",
       "105       46.0     tetA(P)_1_AB054980    Tetracycline    1263\n",
       "106      207.0       tetA(P)_2_L20800    Tetracycline    1263\n",
       "107       34.0    tetB(P)_1_NC_010937    Tetracycline    1959\n",
       "108        0.0      vat(E)_5_AJ488494       Macrolide     645\n",
       "\n",
       "[109 rows x 4 columns]"
      ]
     },
     "metadata": {},
     "output_type": "display_data"
    },
    {
     "name": "stdout",
     "output_type": "stream",
     "text": [
      "Sample 38 with AMR class and fragment Length data\n"
     ]
    },
    {
     "data": {
      "text/html": [
       "<div>\n",
       "<style scoped>\n",
       "    .dataframe tbody tr th:only-of-type {\n",
       "        vertical-align: middle;\n",
       "    }\n",
       "\n",
       "    .dataframe tbody tr th {\n",
       "        vertical-align: top;\n",
       "    }\n",
       "\n",
       "    .dataframe thead th {\n",
       "        text-align: right;\n",
       "    }\n",
       "</style>\n",
       "<table border=\"1\" class=\"dataframe\">\n",
       "  <thead>\n",
       "    <tr style=\"text-align: right;\">\n",
       "      <th></th>\n",
       "      <th>Abundance</th>\n",
       "      <th>Gene</th>\n",
       "      <th>Class</th>\n",
       "      <th>Length</th>\n",
       "    </tr>\n",
       "  </thead>\n",
       "  <tbody>\n",
       "    <tr>\n",
       "      <th>0</th>\n",
       "      <td>78.0</td>\n",
       "      <td>Cfr(E)_1_NG_070225</td>\n",
       "      <td>Phenicol</td>\n",
       "      <td>1035</td>\n",
       "    </tr>\n",
       "    <tr>\n",
       "      <th>1</th>\n",
       "      <td>19.0</td>\n",
       "      <td>VanG2XY_1_FJ872410</td>\n",
       "      <td>Glycopeptide</td>\n",
       "      <td>1811</td>\n",
       "    </tr>\n",
       "    <tr>\n",
       "      <th>2</th>\n",
       "      <td>0.0</td>\n",
       "      <td>VanGXY_1_AY271782</td>\n",
       "      <td>Glycopeptide</td>\n",
       "      <td>1811</td>\n",
       "    </tr>\n",
       "    <tr>\n",
       "      <th>3</th>\n",
       "      <td>0.0</td>\n",
       "      <td>VanHBX_1_AF192329</td>\n",
       "      <td>Glycopeptide</td>\n",
       "      <td>2607</td>\n",
       "    </tr>\n",
       "    <tr>\n",
       "      <th>4</th>\n",
       "      <td>3.0</td>\n",
       "      <td>aac(6')-Im_1_AF337947</td>\n",
       "      <td>Aminoglycoside</td>\n",
       "      <td>537</td>\n",
       "    </tr>\n",
       "    <tr>\n",
       "      <th>...</th>\n",
       "      <td>...</td>\n",
       "      <td>...</td>\n",
       "      <td>...</td>\n",
       "      <td>...</td>\n",
       "    </tr>\n",
       "    <tr>\n",
       "      <th>104</th>\n",
       "      <td>0.0</td>\n",
       "      <td>tet(X5)_1_CP040912</td>\n",
       "      <td>Tetracycline</td>\n",
       "      <td>1167</td>\n",
       "    </tr>\n",
       "    <tr>\n",
       "      <th>105</th>\n",
       "      <td>5.0</td>\n",
       "      <td>tetA(P)_1_AB054980</td>\n",
       "      <td>Tetracycline</td>\n",
       "      <td>1263</td>\n",
       "    </tr>\n",
       "    <tr>\n",
       "      <th>106</th>\n",
       "      <td>30.0</td>\n",
       "      <td>tetA(P)_2_L20800</td>\n",
       "      <td>Tetracycline</td>\n",
       "      <td>1263</td>\n",
       "    </tr>\n",
       "    <tr>\n",
       "      <th>107</th>\n",
       "      <td>7.0</td>\n",
       "      <td>tetB(P)_1_NC_010937</td>\n",
       "      <td>Tetracycline</td>\n",
       "      <td>1959</td>\n",
       "    </tr>\n",
       "    <tr>\n",
       "      <th>108</th>\n",
       "      <td>0.0</td>\n",
       "      <td>vat(E)_5_AJ488494</td>\n",
       "      <td>Macrolide</td>\n",
       "      <td>645</td>\n",
       "    </tr>\n",
       "  </tbody>\n",
       "</table>\n",
       "<p>109 rows × 4 columns</p>\n",
       "</div>"
      ],
      "text/plain": [
       "     Abundance                   Gene           Class  Length\n",
       "0         78.0     Cfr(E)_1_NG_070225        Phenicol    1035\n",
       "1         19.0     VanG2XY_1_FJ872410    Glycopeptide    1811\n",
       "2          0.0      VanGXY_1_AY271782    Glycopeptide    1811\n",
       "3          0.0      VanHBX_1_AF192329    Glycopeptide    2607\n",
       "4          3.0  aac(6')-Im_1_AF337947  Aminoglycoside     537\n",
       "..         ...                    ...             ...     ...\n",
       "104        0.0     tet(X5)_1_CP040912    Tetracycline    1167\n",
       "105        5.0     tetA(P)_1_AB054980    Tetracycline    1263\n",
       "106       30.0       tetA(P)_2_L20800    Tetracycline    1263\n",
       "107        7.0    tetB(P)_1_NC_010937    Tetracycline    1959\n",
       "108        0.0      vat(E)_5_AJ488494       Macrolide     645\n",
       "\n",
       "[109 rows x 4 columns]"
      ]
     },
     "metadata": {},
     "output_type": "display_data"
    }
   ],
   "source": [
    "# Merging all resfinder dataframes\n",
    "resfinder_24[\"Class\"]=resfinder_24[\"Gene\"].map(dict_resfinder_classes)\n",
    "resfinder_25[\"Class\"]=resfinder_25[\"Gene\"].map(dict_resfinder_classes)\n",
    "resfinder_38[\"Class\"]=resfinder_38[\"Gene\"].map(dict_resfinder_classes)\n",
    "\n",
    "# Read in resfinder length database\n",
    "resfinder_name = pd.read_csv('./resfinder/ResFinder.name', sep='\\t', header=None, names=['Gene'])\n",
    "resfinder_length = pd.read_csv('./resfinder/ResFinder.length', sep='\\t', header=None, names=['Length'])\n",
    "\n",
    "\n",
    "# Create dict for inserting lengths\n",
    "dict_resfinder_length = pd.DataFrame()\n",
    "dict_resfinder_length['Gene']=resfinder_name['Gene']\n",
    "dict_resfinder_length['Length']=resfinder_length['Length']\n",
    "dict_resfinder_length = dict_resfinder_length.set_index('Gene')['Length'].to_dict()\n",
    "\n",
    "resfinder_24[\"Length\"]=resfinder_24[\"Gene\"].map(dict_resfinder_length)\n",
    "resfinder_25[\"Length\"]=resfinder_25[\"Gene\"].map(dict_resfinder_length)\n",
    "resfinder_38[\"Length\"]=resfinder_38[\"Gene\"].map(dict_resfinder_length)\n",
    "\n",
    "print(\"Sample 24 with AMR class and fragment Length data\")\n",
    "display(resfinder_24)\n",
    "print(\"Sample 25 with AMR class and fragment Length data\")\n",
    "display(resfinder_25)\n",
    "print(\"Sample 38 with AMR class and fragment Length data\")\n",
    "display(resfinder_38)\n",
    "\n",
    "# Suppress warnings\n",
    "#HTML('''<script> code_show_err=false; </script>''')\n"
   ]
  },
  {
   "cell_type": "markdown",
   "metadata": {
    "id": "FHh0GIRzQhyd"
   },
   "source": [
    "## Silva\n",
    "***"
   ]
  },
  {
   "cell_type": "markdown",
   "metadata": {
    "id": "X-E6OsRWQhyd"
   },
   "source": [
    "**KMA output from silva db is used to determine the bacterial content of the samples.** \n",
    "\n",
    "**To do this, we simply find the proportion of samples that are bacterial, and find the proportion of reads out of the total reads.**\n",
    "\n",
    "**This data can be obtained directly from silva `*.mapstat` files.**\n",
    "\n",
    "**Crunching the numbers results in following bacterial proportions:**\n"
   ]
  },
  {
   "cell_type": "code",
   "execution_count": 22,
   "metadata": {
    "id": "a7bTHbGiQhyd",
    "outputId": "c79f0746-03a4-4157-d927-fab37088c95e"
   },
   "outputs": [
    {
     "name": "stdout",
     "output_type": "stream",
     "text": [
      "Sample 24 bacterial content:\n",
      "0.99\n",
      "Sample 25 bacterial content:\n",
      "0.98\n",
      "Sample 38 bacterial content:\n",
      "0.96\n"
     ]
    }
   ],
   "source": [
    "# Find True bacterial content, by computing bacterial readCount / total readCount\n",
    "\n",
    "# SAMPLE 24\n",
    "silva_24 = pd.read_csv('./silva/silva_24.mapstat', skiprows=6, sep='\\t')[[\"# refSequence\",\"fragmentCount\"]]\n",
    "silva_24.columns = [\"TaxID\",\"fragmentCount\"]\n",
    "\n",
    "silva_24_bacteria_index = silva_24[\"TaxID\"]\n",
    "silva_24_bacteria_index = silva_24[\"TaxID\"].str.contains('Bacteria')\n",
    "\n",
    "silva_24_fragmentcount = silva_24[\"fragmentCount\"]\n",
    "\n",
    "silva_24_bacteria_content = silva_24_fragmentcount[silva_24_bacteria_index].sum()\n",
    "silva_24_total_content = silva_24_fragmentcount.sum()\n",
    "\n",
    "# SAMPLE 25\n",
    "silva_25 = pd.read_csv('./silva/silva_25.mapstat', skiprows=6, sep='\\t')[[\"# refSequence\",\"fragmentCount\"]]\n",
    "silva_25.columns = [\"TaxID\",\"fragmentCount\"]\n",
    "\n",
    "silva_25_bacteria_index = silva_25[\"TaxID\"]\n",
    "silva_25_bacteria_index = silva_25[\"TaxID\"].str.contains('Bacteria')\n",
    "\n",
    "silva_25_fragmentcount = silva_25[\"fragmentCount\"]\n",
    "\n",
    "silva_25_bacteria_content = silva_25_fragmentcount[silva_25_bacteria_index].sum()\n",
    "silva_25_total_content = silva_25_fragmentcount.sum()\n",
    "\n",
    "# SAMPLE 38\n",
    "silva_38 = pd.read_csv('./silva/kma_silva_38.mapstat', skiprows=6, sep='\\t')[[\"# refSequence\",\"readCount\"]]\n",
    "silva_38.columns = [\"TaxID\",\"fragmentCount\"]\n",
    "\n",
    "silva_38_bacteria_index = silva_38[\"TaxID\"]\n",
    "silva_38_bacteria_index = silva_38[\"TaxID\"].str.contains('Bacteria')\n",
    "\n",
    "silva_38_fragmentcount = silva_38[\"fragmentCount\"]\n",
    "\n",
    "silva_38_bacteria_content = silva_38_fragmentcount[silva_38_bacteria_index].sum()\n",
    "silva_38_total_content = silva_38_fragmentcount.sum()\n",
    "\n",
    "sample_24_bacterial_content = silva_24_bacteria_content/silva_24_total_content\n",
    "sample_25_bacterial_content = silva_25_bacteria_content/silva_25_total_content\n",
    "sample_38_bacterial_content = silva_38_bacteria_content/silva_38_total_content\n",
    "\n",
    "print(\"Sample 24 bacterial content:\")\n",
    "print(round(sample_24_bacterial_content,3))\n",
    "print(\"Sample 25 bacterial content:\")\n",
    "print(round(sample_25_bacterial_content,2))\n",
    "print(\"Sample 38 bacterial content:\")\n",
    "print(round(sample_38_bacterial_content,3))\n"
   ]
  },
  {
   "cell_type": "markdown",
   "metadata": {
    "id": "7xu3xGnHQhye"
   },
   "source": [
    "**This demonstrates that the amount of non-bacterial reads in our sample is effectively negligible.**\n",
    "\n",
    "**However, they are scalar quantities, using them in FPKM calculations is easy, so we will still use them.**"
   ]
  },
  {
   "cell_type": "markdown",
   "metadata": {
    "id": "Xr6GIDb7Qhye"
   },
   "source": [
    "**In addition, we we need the total number of total fragment for each sample.** \n",
    "\n",
    "**This can also be found in the `*.mapstat` files, and is found by summing up the `fragmentCount` columns:**"
   ]
  },
  {
   "cell_type": "code",
   "execution_count": 23,
   "metadata": {
    "id": "q--ZNIGFQhyf",
    "outputId": "734eb160-3e52-407d-d729-ed3cc8834716"
   },
   "outputs": [
    {
     "name": "stdout",
     "output_type": "stream",
     "text": [
      "Sample 24 total fragment\n",
      "102963\n",
      "Sample 25 total fragment\n",
      "299937\n",
      "Sample 38 total fragment\n",
      "59954\n"
     ]
    }
   ],
   "source": [
    "# Basically just sum up the bpTotal column\n",
    "silva_24_fragment_count = pd.read_csv('./silva/silva_24.mapstat',skiprows=6,sep='\\t',usecols=['fragmentCount']).sum()\n",
    "silva_24_fragment_count = silva_24_fragment_count[0]\n",
    "print(\"Sample 24 total fragment\")\n",
    "print(silva_24_fragment_count)\n",
    "\n",
    "silva_25_fragment_count = pd.read_csv('./silva/silva_25.mapstat',skiprows=6,sep='\\t',usecols=['fragmentCount']).sum()\n",
    "silva_25_fragment_count = silva_25_fragment_count[0]\n",
    "print(\"Sample 25 total fragment\")\n",
    "print(silva_25_fragment_count)\n",
    "\n",
    "silva_38_fragment_count = pd.read_csv('./silva/kma_silva_38.mapstat',skiprows=6,sep='\\t',usecols=['fragmentCount']).sum()\n",
    "silva_38_fragment_count = silva_38_fragment_count[0]\n",
    "print(\"Sample 38 total fragment\")\n",
    "print(silva_38_fragment_count)"
   ]
  },
  {
   "cell_type": "markdown",
   "metadata": {
    "id": "SiMFSw5fQhyf"
   },
   "source": [
    "# CoDa\n",
    "***"
   ]
  },
  {
   "cell_type": "markdown",
   "metadata": {},
   "source": [
    "**For the actual CoDa section, we will compute:** \n",
    "\n",
    "- ALR (a.k.a. log(FPKM) values - which tell us about composition of a SPECIFIC composition.\n",
    "\n",
    "- CLR values - which tells us about the differences in compositions BETWEEEN samples.\n",
    "\n",
    "\n",
    "**Key differences:**\n",
    "\n",
    "ALR values between samples CANNOT be compared, whereas CLR values between samples CAN be compared.\n",
    "\n",
    "The ALR values are closed to total READS, whereas CLR values are closed to total AMR FRAGMENTS"
   ]
  },
  {
   "cell_type": "markdown",
   "metadata": {},
   "source": [
    "## ALR a.k.a. log(FPKM) "
   ]
  },
  {
   "cell_type": "markdown",
   "metadata": {
    "id": "JajC3Jb9Qhyf"
   },
   "source": [
    "In order to perform CoDa via FPKM values, we need both the data from the Silva and Resfinder databases.\n",
    "\n",
    "The Resfinder database provides us information on the resistance genes - which ones, how many fragments we get, and how long the fragments are.\n",
    "\n",
    "The Silva database provides us with information on how many of our genes are actually bacterial \n",
    "\n",
    "FPKM is fragments per kilo basepairs, per million.\n",
    "\n",
    "The number of fragments of a specific AMR, the kilo basepairs is the bp length of the specific AMR gene (times 10^-3, or 10^3 in the numerator term).\n",
    "\n",
    "The Millions of basepairs, is the length of your sample, which is found by summing the fragmentTotal column in Silva `*.mapstat` files "
   ]
  },
  {
   "cell_type": "markdown",
   "metadata": {
    "id": "Wk-kkUORQhyf"
   },
   "source": [
    "We will use the values of `resfinder_{24,25,38}` (Dataframe containing Gene, Class, Abundance and Length), `sample_{24,25,38}_bacterial_content` (proportion bacterial reads),and `silva_{24,25,38}_fragment_count` (number total fragments)\n",
    "\n",
    "**Note:** *there is a hidden step, where be remove rows containing zeros - reason being they break down in the context of a log transformation. We do this by replacing the zeros with a very small number. In this case, 1 - denoting a single gene fragment.* "
   ]
  },
  {
   "cell_type": "code",
   "execution_count": 24,
   "metadata": {},
   "outputs": [],
   "source": [
    "# Replace zero's with 1's (important for CoDa section)\n",
    "\n",
    "resfinder_24['Abundance'][resfinder_24.Abundance == 0] = 1\n",
    "resfinder_25['Abundance'][resfinder_25.Abundance == 0] = 1\n",
    "resfinder_38['Abundance'][resfinder_38.Abundance == 0] = 1"
   ]
  },
  {
   "cell_type": "code",
   "execution_count": 25,
   "metadata": {
    "id": "OWnwwRpMQhyg",
    "outputId": "a9ff7d4a-e8f5-4368-c9db-1f59143b4e7e"
   },
   "outputs": [],
   "source": [
    "# Compute FKPM values\n",
    "resfinder_24['FPKM']=(resfinder_24['Abundance']*1000*1000000)/(sample_24_bacterial_content*resfinder_24['Length']*silva_24_fragment_count)\n",
    "resfinder_25['FPKM']=(resfinder_25['Abundance']*1000*1000000)/(sample_25_bacterial_content*resfinder_25['Length']*silva_25_fragment_count)\n",
    "resfinder_38['FPKM']=(resfinder_38['Abundance']*1000*1000000)/(sample_38_bacterial_content*resfinder_38['Length']*silva_38_fragment_count)"
   ]
  },
  {
   "cell_type": "code",
   "execution_count": 26,
   "metadata": {},
   "outputs": [],
   "source": [
    "# Perform amalgamation\n",
    "grouped_24 = resfinder_24.groupby('Class').sum()\n",
    "grouped_25 = resfinder_25.groupby('Class').sum()\n",
    "grouped_38 = resfinder_38.groupby('Class').sum()\n",
    "\n",
    "# print(\"Amalgamated abundance, length and FPKM values for sample 24\")\n",
    "# display(grouped_24)"
   ]
  },
  {
   "cell_type": "markdown",
   "metadata": {},
   "source": [
    "### **log(FKPM) values**"
   ]
  },
  {
   "cell_type": "code",
   "execution_count": 27,
   "metadata": {},
   "outputs": [
    {
     "name": "stdout",
     "output_type": "stream",
     "text": [
      "log(FPKM) values for sample 24\n"
     ]
    },
    {
     "data": {
      "text/html": [
       "<div>\n",
       "<style scoped>\n",
       "    .dataframe tbody tr th:only-of-type {\n",
       "        vertical-align: middle;\n",
       "    }\n",
       "\n",
       "    .dataframe tbody tr th {\n",
       "        vertical-align: top;\n",
       "    }\n",
       "\n",
       "    .dataframe thead th {\n",
       "        text-align: right;\n",
       "    }\n",
       "</style>\n",
       "<table border=\"1\" class=\"dataframe\">\n",
       "  <thead>\n",
       "    <tr style=\"text-align: right;\">\n",
       "      <th></th>\n",
       "      <th>Abundance</th>\n",
       "      <th>Length</th>\n",
       "      <th>FPKM</th>\n",
       "      <th>logFPKM</th>\n",
       "      <th>Class</th>\n",
       "    </tr>\n",
       "  </thead>\n",
       "  <tbody>\n",
       "    <tr>\n",
       "      <th>0</th>\n",
       "      <td>2075.0</td>\n",
       "      <td>11646</td>\n",
       "      <td>23646.402571</td>\n",
       "      <td>10.070966</td>\n",
       "      <td>Aminoglycoside</td>\n",
       "    </tr>\n",
       "    <tr>\n",
       "      <th>1</th>\n",
       "      <td>2355.0</td>\n",
       "      <td>10494</td>\n",
       "      <td>23631.693263</td>\n",
       "      <td>10.070344</td>\n",
       "      <td>Beta-Lactam</td>\n",
       "    </tr>\n",
       "    <tr>\n",
       "      <th>2</th>\n",
       "      <td>37.0</td>\n",
       "      <td>6229</td>\n",
       "      <td>198.710407</td>\n",
       "      <td>5.291849</td>\n",
       "      <td>Glycopeptide</td>\n",
       "    </tr>\n",
       "    <tr>\n",
       "      <th>3</th>\n",
       "      <td>10794.0</td>\n",
       "      <td>24414</td>\n",
       "      <td>109370.620913</td>\n",
       "      <td>11.602498</td>\n",
       "      <td>Macrolide</td>\n",
       "    </tr>\n",
       "    <tr>\n",
       "      <th>4</th>\n",
       "      <td>2.0</td>\n",
       "      <td>993</td>\n",
       "      <td>39.504885</td>\n",
       "      <td>3.676424</td>\n",
       "      <td>Nitroimidazole</td>\n",
       "    </tr>\n",
       "    <tr>\n",
       "      <th>5</th>\n",
       "      <td>164.0</td>\n",
       "      <td>3426</td>\n",
       "      <td>1491.568328</td>\n",
       "      <td>7.307583</td>\n",
       "      <td>Phenicol</td>\n",
       "    </tr>\n",
       "    <tr>\n",
       "      <th>6</th>\n",
       "      <td>2.0</td>\n",
       "      <td>1668</td>\n",
       "      <td>23.528942</td>\n",
       "      <td>3.158231</td>\n",
       "      <td>Sulphonamide</td>\n",
       "    </tr>\n",
       "    <tr>\n",
       "      <th>7</th>\n",
       "      <td>38345.0</td>\n",
       "      <td>77444</td>\n",
       "      <td>199703.202365</td>\n",
       "      <td>12.204588</td>\n",
       "      <td>Tetracycline</td>\n",
       "    </tr>\n",
       "  </tbody>\n",
       "</table>\n",
       "</div>"
      ],
      "text/plain": [
       "   Abundance  Length           FPKM    logFPKM           Class\n",
       "0     2075.0   11646   23646.402571  10.070966  Aminoglycoside\n",
       "1     2355.0   10494   23631.693263  10.070344     Beta-Lactam\n",
       "2       37.0    6229     198.710407   5.291849    Glycopeptide\n",
       "3    10794.0   24414  109370.620913  11.602498       Macrolide\n",
       "4        2.0     993      39.504885   3.676424  Nitroimidazole\n",
       "5      164.0    3426    1491.568328   7.307583        Phenicol\n",
       "6        2.0    1668      23.528942   3.158231    Sulphonamide\n",
       "7    38345.0   77444  199703.202365  12.204588    Tetracycline"
      ]
     },
     "metadata": {},
     "output_type": "display_data"
    },
    {
     "name": "stdout",
     "output_type": "stream",
     "text": [
      "log(FPKM) values for sample 25\n"
     ]
    },
    {
     "data": {
      "text/html": [
       "<div>\n",
       "<style scoped>\n",
       "    .dataframe tbody tr th:only-of-type {\n",
       "        vertical-align: middle;\n",
       "    }\n",
       "\n",
       "    .dataframe tbody tr th {\n",
       "        vertical-align: top;\n",
       "    }\n",
       "\n",
       "    .dataframe thead th {\n",
       "        text-align: right;\n",
       "    }\n",
       "</style>\n",
       "<table border=\"1\" class=\"dataframe\">\n",
       "  <thead>\n",
       "    <tr style=\"text-align: right;\">\n",
       "      <th></th>\n",
       "      <th>Abundance</th>\n",
       "      <th>Length</th>\n",
       "      <th>FPKM</th>\n",
       "      <th>logFPKM</th>\n",
       "      <th>Class</th>\n",
       "    </tr>\n",
       "  </thead>\n",
       "  <tbody>\n",
       "    <tr>\n",
       "      <th>0</th>\n",
       "      <td>5981.0</td>\n",
       "      <td>11646</td>\n",
       "      <td>23616.859185</td>\n",
       "      <td>10.069716</td>\n",
       "      <td>Aminoglycoside</td>\n",
       "    </tr>\n",
       "    <tr>\n",
       "      <th>1</th>\n",
       "      <td>4991.0</td>\n",
       "      <td>10494</td>\n",
       "      <td>17385.702865</td>\n",
       "      <td>9.763403</td>\n",
       "      <td>Beta-Lactam</td>\n",
       "    </tr>\n",
       "    <tr>\n",
       "      <th>2</th>\n",
       "      <td>123.0</td>\n",
       "      <td>6229</td>\n",
       "      <td>217.147267</td>\n",
       "      <td>5.380576</td>\n",
       "      <td>Glycopeptide</td>\n",
       "    </tr>\n",
       "    <tr>\n",
       "      <th>3</th>\n",
       "      <td>36482.0</td>\n",
       "      <td>24414</td>\n",
       "      <td>126141.482001</td>\n",
       "      <td>11.745159</td>\n",
       "      <td>Macrolide</td>\n",
       "    </tr>\n",
       "    <tr>\n",
       "      <th>4</th>\n",
       "      <td>34.0</td>\n",
       "      <td>993</td>\n",
       "      <td>232.730700</td>\n",
       "      <td>5.449882</td>\n",
       "      <td>Nitroimidazole</td>\n",
       "    </tr>\n",
       "    <tr>\n",
       "      <th>5</th>\n",
       "      <td>816.0</td>\n",
       "      <td>3426</td>\n",
       "      <td>2534.642673</td>\n",
       "      <td>7.837808</td>\n",
       "      <td>Phenicol</td>\n",
       "    </tr>\n",
       "    <tr>\n",
       "      <th>6</th>\n",
       "      <td>38.0</td>\n",
       "      <td>1668</td>\n",
       "      <td>154.447831</td>\n",
       "      <td>5.039856</td>\n",
       "      <td>Sulphonamide</td>\n",
       "    </tr>\n",
       "    <tr>\n",
       "      <th>7</th>\n",
       "      <td>86507.0</td>\n",
       "      <td>77444</td>\n",
       "      <td>156621.238674</td>\n",
       "      <td>11.961586</td>\n",
       "      <td>Tetracycline</td>\n",
       "    </tr>\n",
       "  </tbody>\n",
       "</table>\n",
       "</div>"
      ],
      "text/plain": [
       "   Abundance  Length           FPKM    logFPKM           Class\n",
       "0     5981.0   11646   23616.859185  10.069716  Aminoglycoside\n",
       "1     4991.0   10494   17385.702865   9.763403     Beta-Lactam\n",
       "2      123.0    6229     217.147267   5.380576    Glycopeptide\n",
       "3    36482.0   24414  126141.482001  11.745159       Macrolide\n",
       "4       34.0     993     232.730700   5.449882  Nitroimidazole\n",
       "5      816.0    3426    2534.642673   7.837808        Phenicol\n",
       "6       38.0    1668     154.447831   5.039856    Sulphonamide\n",
       "7    86507.0   77444  156621.238674  11.961586    Tetracycline"
      ]
     },
     "metadata": {},
     "output_type": "display_data"
    },
    {
     "name": "stdout",
     "output_type": "stream",
     "text": [
      "log(FPKM) values for sample 38\n"
     ]
    },
    {
     "data": {
      "text/html": [
       "<div>\n",
       "<style scoped>\n",
       "    .dataframe tbody tr th:only-of-type {\n",
       "        vertical-align: middle;\n",
       "    }\n",
       "\n",
       "    .dataframe tbody tr th {\n",
       "        vertical-align: top;\n",
       "    }\n",
       "\n",
       "    .dataframe thead th {\n",
       "        text-align: right;\n",
       "    }\n",
       "</style>\n",
       "<table border=\"1\" class=\"dataframe\">\n",
       "  <thead>\n",
       "    <tr style=\"text-align: right;\">\n",
       "      <th></th>\n",
       "      <th>Abundance</th>\n",
       "      <th>Length</th>\n",
       "      <th>FPKM</th>\n",
       "      <th>logFPKM</th>\n",
       "      <th>Class</th>\n",
       "    </tr>\n",
       "  </thead>\n",
       "  <tbody>\n",
       "    <tr>\n",
       "      <th>0</th>\n",
       "      <td>807.0</td>\n",
       "      <td>11646</td>\n",
       "      <td>16292.280875</td>\n",
       "      <td>9.698447</td>\n",
       "      <td>Aminoglycoside</td>\n",
       "    </tr>\n",
       "    <tr>\n",
       "      <th>1</th>\n",
       "      <td>1234.0</td>\n",
       "      <td>10494</td>\n",
       "      <td>21895.573049</td>\n",
       "      <td>9.994040</td>\n",
       "      <td>Beta-Lactam</td>\n",
       "    </tr>\n",
       "    <tr>\n",
       "      <th>2</th>\n",
       "      <td>21.0</td>\n",
       "      <td>6229</td>\n",
       "      <td>198.493554</td>\n",
       "      <td>5.290757</td>\n",
       "      <td>Glycopeptide</td>\n",
       "    </tr>\n",
       "    <tr>\n",
       "      <th>3</th>\n",
       "      <td>7277.0</td>\n",
       "      <td>24414</td>\n",
       "      <td>120763.458516</td>\n",
       "      <td>11.701589</td>\n",
       "      <td>Macrolide</td>\n",
       "    </tr>\n",
       "    <tr>\n",
       "      <th>4</th>\n",
       "      <td>2.0</td>\n",
       "      <td>993</td>\n",
       "      <td>69.971486</td>\n",
       "      <td>4.248088</td>\n",
       "      <td>Nitroimidazole</td>\n",
       "    </tr>\n",
       "    <tr>\n",
       "      <th>5</th>\n",
       "      <td>114.0</td>\n",
       "      <td>3426</td>\n",
       "      <td>1810.278935</td>\n",
       "      <td>7.501236</td>\n",
       "      <td>Phenicol</td>\n",
       "    </tr>\n",
       "    <tr>\n",
       "      <th>6</th>\n",
       "      <td>2.0</td>\n",
       "      <td>1668</td>\n",
       "      <td>41.674719</td>\n",
       "      <td>3.729895</td>\n",
       "      <td>Sulphonamide</td>\n",
       "    </tr>\n",
       "    <tr>\n",
       "      <th>7</th>\n",
       "      <td>13238.0</td>\n",
       "      <td>77444</td>\n",
       "      <td>121829.674592</td>\n",
       "      <td>11.710379</td>\n",
       "      <td>Tetracycline</td>\n",
       "    </tr>\n",
       "  </tbody>\n",
       "</table>\n",
       "</div>"
      ],
      "text/plain": [
       "   Abundance  Length           FPKM    logFPKM           Class\n",
       "0      807.0   11646   16292.280875   9.698447  Aminoglycoside\n",
       "1     1234.0   10494   21895.573049   9.994040     Beta-Lactam\n",
       "2       21.0    6229     198.493554   5.290757    Glycopeptide\n",
       "3     7277.0   24414  120763.458516  11.701589       Macrolide\n",
       "4        2.0     993      69.971486   4.248088  Nitroimidazole\n",
       "5      114.0    3426    1810.278935   7.501236        Phenicol\n",
       "6        2.0    1668      41.674719   3.729895    Sulphonamide\n",
       "7    13238.0   77444  121829.674592  11.710379    Tetracycline"
      ]
     },
     "metadata": {},
     "output_type": "display_data"
    }
   ],
   "source": [
    "# Compute log(FKPM) values\n",
    "grouped_24[\"logFPKM\"] = np.log(grouped_24[\"FPKM\"])\n",
    "grouped_25[\"logFPKM\"] = np.log(grouped_25[\"FPKM\"])\n",
    "grouped_38[\"logFPKM\"] = np.log(grouped_38[\"FPKM\"])\n",
    "\n",
    "grouped_24[\"Class\"]= list(grouped_24.index)\n",
    "grouped_24 = grouped_24.reset_index(drop=True)\n",
    "\n",
    "grouped_25[\"Class\"]= list(grouped_25.index)\n",
    "grouped_25 = grouped_25.reset_index(drop=True)\n",
    "\n",
    "grouped_38[\"Class\"]= list(grouped_38.index)\n",
    "grouped_38 = grouped_38.reset_index(drop=True)\n",
    "\n",
    "print(\"log(FPKM) values for sample 24\")\n",
    "display(grouped_24)\n",
    "\n",
    "print(\"log(FPKM) values for sample 25\")\n",
    "display(grouped_25)\n",
    "\n",
    "print(\"log(FPKM) values for sample 38\")\n",
    "display(grouped_38)\n",
    "\n",
    "grouped_24.to_csv('~/Desktop/ALR_24.csv')\n",
    "grouped_25.to_csv('~/Desktop/ALR_25.csv')\n",
    "grouped_38.to_csv('~/Desktop/ALR_38.csv')\n"
   ]
  },
  {
   "cell_type": "markdown",
   "metadata": {},
   "source": [
    "### **Barplot of log(FPKM) values for all 3 samples**"
   ]
  },
  {
   "cell_type": "code",
   "execution_count": 28,
   "metadata": {},
   "outputs": [],
   "source": [
    "## Pure matplotlib\n",
    "\n",
    "# Plot log(FKPM) values against AMR gene classes\n",
    "# composite_plot, axs = plt.subplots(3, 1, figsize=(11, 8), sharey=True)\n",
    "# axs[0].bar(grouped_24[\"Class\"], grouped_24[\"logFPKM\"])\n",
    "# axs[1].bar(grouped_25[\"Class\"], grouped_25[\"logFPKM\"])\n",
    "# axs[2].bar(grouped_38[\"Class\"], grouped_38[\"logFPKM\"])\n",
    "# composite_plot.suptitle(\"Log(FPKM) vs. AMR gene classes for samples 24, 25 and 38\")"
   ]
  },
  {
   "cell_type": "code",
   "execution_count": 29,
   "metadata": {},
   "outputs": [
    {
     "data": {
      "text/plain": [
       "<AxesSubplot: title={'center': 'SAMPLE 38'}, xlabel='Class', ylabel='logFPKM'>"
      ]
     },
     "execution_count": 29,
     "metadata": {},
     "output_type": "execute_result"
    },
    {
     "data": {
      "image/png": "[encoded data removed]",
      "text/plain": [
       "<Figure size 1500x1400 with 3 Axes>"
      ]
     },
     "metadata": {},
     "output_type": "display_data"
    }
   ],
   "source": [
    "## matplotlib + seaborn\n",
    "# https://dev.to/thalesbruno/subplotting-with-matplotlib-and-seaborn-5ei8\n",
    "\n",
    "composite_plot_sns, axes = plt.subplots(3, 1, figsize=(15, 14), sharex=True)\n",
    "composite_plot_sns.suptitle(\"Log(FPKM) vs. AMR gene classes for samples 24, 25 and 38\")\n",
    "axes[0].set_title(\"SAMPLE 24\")\n",
    "sns.barplot(data=grouped_24, ax=axes[0], x=grouped_24[\"Class\"], y=grouped_24[\"logFPKM\"])\n",
    "axes[1].set_title(\"SAMPLE 25\")\n",
    "sns.barplot(data=grouped_25, ax=axes[1], x=grouped_25[\"Class\"], y=grouped_25[\"logFPKM\"])\n",
    "axes[2].set_title(\"SAMPLE 38\")\n",
    "sns.barplot(data=grouped_38, ax=axes[2],  x=grouped_38[\"Class\"], y=grouped_38[\"logFPKM\"])"
   ]
  },
  {
   "cell_type": "markdown",
   "metadata": {
    "id": "GeYGVRrgQhyg"
   },
   "source": [
    "## CLR"
   ]
  },
  {
   "cell_type": "markdown",
   "metadata": {},
   "source": [
    "**CLR values are computed by taking the original `resfinder_{24,25,38}` values, and performing 'Closure' to them (basically normalization).** \n",
    "\n",
    "**Since we have used number of AMR fragments, we will use the total fragments (found in `fragmentCountAln` colunn of `resfinder` `*.mapstat` files).**\n",
    "\n",
    "**Having performed closure, we amalgamate after AMR gene classes, as we did before with ARL. We now perform CLR. This can be done by dividing our fragment abundances by the geometric mean for each column, and log transforming.**"
   ]
  },
  {
   "cell_type": "code",
   "execution_count": 30,
   "metadata": {},
   "outputs": [],
   "source": [
    "# Find total fragment to perform closure\n",
    "\n",
    "total_fragment_24 = pd.read_csv('./resfinder/resfinder_ERR2597524.mapstat', skiprows=6, sep='\\t')[[\"fragmentCountAln\"]].sum()\n",
    "total_fragment_25 = pd.read_csv('./resfinder/resfinder_ERR2597524.mapstat', skiprows=6, sep='\\t')[[\"fragmentCountAln\"]].sum()\n",
    "total_fragment_38 = pd.read_csv('./resfinder/kma_resfinder_38.mapstat', skiprows=6, sep='\\t')[[\"fragmentCountAln\"]].sum()"
   ]
  },
  {
   "cell_type": "markdown",
   "metadata": {},
   "source": [
    "### CLR values"
   ]
  },
  {
   "cell_type": "code",
   "execution_count": 31,
   "metadata": {},
   "outputs": [],
   "source": [
    "resfinder_clr = pd.DataFrame()\n",
    "resfinder_clr[\"CLR(24)\"] = resfinder_24[\"Abundance\"]\n",
    "resfinder_clr[\"CLR(25)\"] = resfinder_25[\"Abundance\"]\n",
    "resfinder_clr[\"CLR(38)\"] = resfinder_38[\"Abundance\"]\n",
    "resfinder_clr[\"Class\"] = resfinder_24[\"Class\"]\n",
    "\n",
    "# resfinder_clr"
   ]
  },
  {
   "cell_type": "markdown",
   "metadata": {},
   "source": [
    "**Resulting CLR values after applying closure and amalgamating after AMR gene classes:**"
   ]
  },
  {
   "cell_type": "code",
   "execution_count": 32,
   "metadata": {},
   "outputs": [
    {
     "data": {
      "text/html": [
       "<div>\n",
       "<style scoped>\n",
       "    .dataframe tbody tr th:only-of-type {\n",
       "        vertical-align: middle;\n",
       "    }\n",
       "\n",
       "    .dataframe tbody tr th {\n",
       "        vertical-align: top;\n",
       "    }\n",
       "\n",
       "    .dataframe thead th {\n",
       "        text-align: right;\n",
       "    }\n",
       "</style>\n",
       "<table border=\"1\" class=\"dataframe\">\n",
       "  <thead>\n",
       "    <tr style=\"text-align: right;\">\n",
       "      <th></th>\n",
       "      <th>Class</th>\n",
       "      <th>CLR(24)</th>\n",
       "      <th>CLR(25)</th>\n",
       "      <th>CLR(38)</th>\n",
       "    </tr>\n",
       "  </thead>\n",
       "  <tbody>\n",
       "    <tr>\n",
       "      <th>0</th>\n",
       "      <td>Aminoglycoside</td>\n",
       "      <td>1.970189</td>\n",
       "      <td>1.475739</td>\n",
       "      <td>1.523114</td>\n",
       "    </tr>\n",
       "    <tr>\n",
       "      <th>1</th>\n",
       "      <td>Beta-Lactam</td>\n",
       "      <td>2.096769</td>\n",
       "      <td>1.294787</td>\n",
       "      <td>1.947807</td>\n",
       "    </tr>\n",
       "    <tr>\n",
       "      <th>2</th>\n",
       "      <td>Glycopeptide</td>\n",
       "      <td>-2.056609</td>\n",
       "      <td>-2.408420</td>\n",
       "      <td>-2.125687</td>\n",
       "    </tr>\n",
       "    <tr>\n",
       "      <th>3</th>\n",
       "      <td>Macrolide</td>\n",
       "      <td>3.619219</td>\n",
       "      <td>3.283970</td>\n",
       "      <td>3.722264</td>\n",
       "    </tr>\n",
       "    <tr>\n",
       "      <th>4</th>\n",
       "      <td>Nitroimidazole</td>\n",
       "      <td>-4.974380</td>\n",
       "      <td>-3.694244</td>\n",
       "      <td>-4.477062</td>\n",
       "    </tr>\n",
       "    <tr>\n",
       "      <th>5</th>\n",
       "      <td>Phenicol</td>\n",
       "      <td>-0.567661</td>\n",
       "      <td>-0.516190</td>\n",
       "      <td>-0.434011</td>\n",
       "    </tr>\n",
       "    <tr>\n",
       "      <th>6</th>\n",
       "      <td>Sulphonamide</td>\n",
       "      <td>-4.974380</td>\n",
       "      <td>-3.583018</td>\n",
       "      <td>-4.477062</td>\n",
       "    </tr>\n",
       "    <tr>\n",
       "      <th>7</th>\n",
       "      <td>Tetracycline</td>\n",
       "      <td>4.886852</td>\n",
       "      <td>4.147376</td>\n",
       "      <td>4.320637</td>\n",
       "    </tr>\n",
       "  </tbody>\n",
       "</table>\n",
       "</div>"
      ],
      "text/plain": [
       "            Class   CLR(24)   CLR(25)   CLR(38)\n",
       "0  Aminoglycoside  1.970189  1.475739  1.523114\n",
       "1     Beta-Lactam  2.096769  1.294787  1.947807\n",
       "2    Glycopeptide -2.056609 -2.408420 -2.125687\n",
       "3       Macrolide  3.619219  3.283970  3.722264\n",
       "4  Nitroimidazole -4.974380 -3.694244 -4.477062\n",
       "5        Phenicol -0.567661 -0.516190 -0.434011\n",
       "6    Sulphonamide -4.974380 -3.583018 -4.477062\n",
       "7    Tetracycline  4.886852  4.147376  4.320637"
      ]
     },
     "metadata": {},
     "output_type": "display_data"
    },
    {
     "name": "stdout",
     "output_type": "stream",
     "text": [
      "Sum of CLR values (they should sum to ~zero):\n",
      "sum(CLR(24)):\n",
      "1.7763568394002505e-15\n",
      "sum(CLR(25)):\n",
      "1.7763568394002505e-15\n",
      "sum(CLR(38)):\n",
      "-8.881784197001252e-16\n",
      "Sums are small enough so that they are basically zero.\n"
     ]
    }
   ],
   "source": [
    "# Compute CLR values for all samples\n",
    "\n",
    "resfinder_clr = pd.DataFrame()\n",
    "\n",
    "resfinder_clr[\"CLR(24)\"] = resfinder_24[\"Abundance\"]/total_fragment_24[0]\n",
    "resfinder_clr[\"CLR(25)\"] = resfinder_25[\"Abundance\"]/total_fragment_25[0]\n",
    "resfinder_clr[\"CLR(38)\"] = resfinder_38[\"Abundance\"]/total_fragment_38[0]\n",
    "resfinder_clr[\"Class\"] = resfinder_24[\"Class\"]\n",
    "\n",
    "resfinder_clr = resfinder_clr.groupby(\"Class\").sum().transpose()\n",
    "\n",
    "def gmean(row):\n",
    "    \"\"\"Calculate gmean.\"\"\"\n",
    "    return np.exp(\n",
    "        (1 / len(row)) * np.log(row).sum()\n",
    "    )\n",
    "\n",
    "# calculate CLR\n",
    "resfinder_clr = resfinder_clr.apply(lambda x: np.log(x / gmean(x)), axis=1).transpose()\n",
    "\n",
    "resfinder_clr.reset_index(inplace=True)\n",
    "\n",
    "display(resfinder_clr)\n",
    "\n",
    "print(\"Sum of CLR values (they should sum to ~zero):\")\n",
    "print(\"sum(CLR(24)):\")\n",
    "print(resfinder_clr[\"CLR(24)\"].sum())\n",
    "print(\"sum(CLR(25)):\")\n",
    "print(resfinder_clr[\"CLR(25)\"].sum())\n",
    "print(\"sum(CLR(38)):\")\n",
    "print(resfinder_clr[\"CLR(38)\"].sum())\n",
    "print(\"Sums are small enough so that they are basically zero.\")"
   ]
  },
  {
   "cell_type": "markdown",
   "metadata": {},
   "source": [
    "### **Scatter plot of CLR values for all samples**"
   ]
  },
  {
   "cell_type": "code",
   "execution_count": 33,
   "metadata": {},
   "outputs": [],
   "source": [
    "# Ignore\n",
    "# resfinder_clr.to_csv(\"~/Desktop/resfinder_clr.csv\")"
   ]
  },
  {
   "cell_type": "code",
   "execution_count": 34,
   "metadata": {},
   "outputs": [
    {
     "data": {
      "text/plain": [
       "<seaborn.axisgrid.FacetGrid at 0x1b96d9cbe20>"
      ]
     },
     "execution_count": 34,
     "metadata": {},
     "output_type": "execute_result"
    },
    {
     "data": {
      "image/png": "[encoded data removed]",
      "text/plain": [
       "<Figure size 970.273x1000 with 1 Axes>"
      ]
     },
     "metadata": {},
     "output_type": "display_data"
    }
   ],
   "source": [
    "# Plot of CLR values\n",
    "\n",
    "# To use seaborn's 'hue' function, we need to perform a 'categorisation' by Samples, or 'pivot'. I can't figure out how to use pandas.pivot(), so I'm using dplyr in R\n",
    "\n",
    "## (Export dataframe to csv)\n",
    "# resfinder_clr.to_csv(\"./resfinder/resfinder_clr.csv\")\n",
    "\n",
    "## Perform categorisation in R using exported csv (generates new csv with categorised data)\n",
    "# resfinder_clr <- read_csv(\"./resfinder/resfinder_clr.csv\")\n",
    "# resfinder_clr %>% \n",
    "#   pivot_longer(cols = c(\"CLR(24)\", \"CLR(25)\", \"CLR(38)\"),\n",
    "#                names_to = \"Sample\",\n",
    "#                values_to = \"CLR\") %>% \n",
    "#   write_csv(\"~/Desktop/resfinder_clr_cat.csv\")\n",
    "# resfinder_clr.to_csv(\"./resfinder/resfinder_clr.csv\")\n",
    "\n",
    "# Import categorised csv\n",
    "resfinder_clr_cat = pd.read_csv(\"./resfinder/resfinder_clr_cat.csv\")\n",
    "\n",
    "# Plot the damn thing\n",
    "sns.set(font_scale=1.5)\n",
    "sns.set_style(\"whitegrid\")\n",
    "sns.catplot(data=resfinder_clr_cat, x=\"Sample\", y=\"CLR\", hue=\"Class\", s=110, jitter=False, height=10, aspect=8/11)"
   ]
  },
  {
   "cell_type": "markdown",
   "metadata": {},
   "source": [
    "# Follow-up investigation"
   ]
  },
  {
   "cell_type": "markdown",
   "metadata": {},
   "source": [
    "## Silva genera/species"
   ]
  },
  {
   "cell_type": "markdown",
   "metadata": {},
   "source": [
    "Gtdb output found Agathobacter, Cryptobacteroides, Prevotella genera and Firmicutes phylum "
   ]
  },
  {
   "cell_type": "code",
   "execution_count": 35,
   "metadata": {},
   "outputs": [
    {
     "name": "stdout",
     "output_type": "stream",
     "text": [
      "Agathobacter\n"
     ]
    },
    {
     "data": {
      "text/plain": [
       "TaxID            FP929043.489815.491335 Bacteria;Firmicutes;Clo...\n",
       "fragmentCount                                                  859\n",
       "dtype: object"
      ]
     },
     "metadata": {},
     "output_type": "display_data"
    },
    {
     "name": "stdout",
     "output_type": "stream",
     "text": [
      "Prevotella\n"
     ]
    },
    {
     "data": {
      "text/plain": [
       "TaxID            HL282995.10.1520 Bacteria;Bacteroidota;Bactero...\n",
       "fragmentCount                                                34216\n",
       "dtype: object"
      ]
     },
     "metadata": {},
     "output_type": "display_data"
    },
    {
     "name": "stdout",
     "output_type": "stream",
     "text": [
      "Cryptobacteroides - uncultured\n"
     ]
    },
    {
     "data": {
      "text/plain": [
       "TaxID            0.0\n",
       "fragmentCount    0.0\n",
       "dtype: float64"
      ]
     },
     "metadata": {},
     "output_type": "display_data"
    },
    {
     "name": "stdout",
     "output_type": "stream",
     "text": [
      "Firmicutes\n"
     ]
    },
    {
     "data": {
      "text/plain": [
       "TaxID            HL282040.1.1532 Bacteria;Firmicutes;Clostridia...\n",
       "fragmentCount                                                46205\n",
       "dtype: object"
      ]
     },
     "metadata": {},
     "output_type": "display_data"
    }
   ],
   "source": [
    "print(\"Agathobacter\")\n",
    "display(silva_24[silva_24[\"TaxID\"].str.contains('Agathobacter')].sum())\n",
    "print(\"Prevotella\")\n",
    "display(silva_24[silva_24[\"TaxID\"].str.contains('Prevotella')].sum())\n",
    "print(\"Cryptobacteroides - uncultured\")\n",
    "display(silva_24[silva_24[\"TaxID\"].str.contains('Cryptobacteroides')].sum())\n",
    "print(\"Firmicutes\")\n",
    "display(silva_24[silva_24[\"TaxID\"].str.contains('Firmicutes')].sum())"
   ]
  },
  {
   "cell_type": "code",
   "execution_count": 36,
   "metadata": {},
   "outputs": [
    {
     "data": {
      "text/html": [
       "<div>\n",
       "<style scoped>\n",
       "    .dataframe tbody tr th:only-of-type {\n",
       "        vertical-align: middle;\n",
       "    }\n",
       "\n",
       "    .dataframe tbody tr th {\n",
       "        vertical-align: top;\n",
       "    }\n",
       "\n",
       "    .dataframe thead th {\n",
       "        text-align: right;\n",
       "    }\n",
       "</style>\n",
       "<table border=\"1\" class=\"dataframe\">\n",
       "  <thead>\n",
       "    <tr style=\"text-align: right;\">\n",
       "      <th></th>\n",
       "      <th># refSequence</th>\n",
       "      <th>readCount</th>\n",
       "      <th>fragmentCount</th>\n",
       "      <th>mapScoreSum</th>\n",
       "      <th>refCoveredPositions</th>\n",
       "      <th>refConsensusSum</th>\n",
       "      <th>bpTotal</th>\n",
       "      <th>depthVariance</th>\n",
       "      <th>nucHighDepthVariance</th>\n",
       "      <th>depthMax</th>\n",
       "      <th>snpSum</th>\n",
       "      <th>insertSum</th>\n",
       "      <th>deletionSum</th>\n",
       "      <th>readCountAln</th>\n",
       "      <th>fragmentCountAln</th>\n",
       "    </tr>\n",
       "  </thead>\n",
       "  <tbody>\n",
       "    <tr>\n",
       "      <th>0</th>\n",
       "      <td>HL282040.1.1532 Bacteria;Firmicutes;Clostridia...</td>\n",
       "      <td>1</td>\n",
       "      <td>1</td>\n",
       "      <td>53</td>\n",
       "      <td>56</td>\n",
       "      <td>55</td>\n",
       "      <td>56</td>\n",
       "      <td>0.035217</td>\n",
       "      <td>56</td>\n",
       "      <td>1</td>\n",
       "      <td>1</td>\n",
       "      <td>0</td>\n",
       "      <td>0</td>\n",
       "      <td>1</td>\n",
       "      <td>1</td>\n",
       "    </tr>\n",
       "    <tr>\n",
       "      <th>1</th>\n",
       "      <td>HL281884.4.1372 Bacteria;Firmicutes;Clostridia...</td>\n",
       "      <td>1</td>\n",
       "      <td>1</td>\n",
       "      <td>142</td>\n",
       "      <td>151</td>\n",
       "      <td>148</td>\n",
       "      <td>151</td>\n",
       "      <td>0.098134</td>\n",
       "      <td>0</td>\n",
       "      <td>1</td>\n",
       "      <td>3</td>\n",
       "      <td>0</td>\n",
       "      <td>0</td>\n",
       "      <td>1</td>\n",
       "      <td>1</td>\n",
       "    </tr>\n",
       "    <tr>\n",
       "      <th>2</th>\n",
       "      <td>HL282039.1.1487 Bacteria;Firmicutes;Clostridia...</td>\n",
       "      <td>1</td>\n",
       "      <td>1</td>\n",
       "      <td>109</td>\n",
       "      <td>133</td>\n",
       "      <td>125</td>\n",
       "      <td>133</td>\n",
       "      <td>0.081442</td>\n",
       "      <td>133</td>\n",
       "      <td>1</td>\n",
       "      <td>8</td>\n",
       "      <td>0</td>\n",
       "      <td>0</td>\n",
       "      <td>1</td>\n",
       "      <td>1</td>\n",
       "    </tr>\n",
       "    <tr>\n",
       "      <th>3</th>\n",
       "      <td>HL282260.2.1394 Bacteria;Desulfobacterota;Desu...</td>\n",
       "      <td>1</td>\n",
       "      <td>1</td>\n",
       "      <td>111</td>\n",
       "      <td>141</td>\n",
       "      <td>131</td>\n",
       "      <td>141</td>\n",
       "      <td>0.090975</td>\n",
       "      <td>0</td>\n",
       "      <td>1</td>\n",
       "      <td>10</td>\n",
       "      <td>0</td>\n",
       "      <td>0</td>\n",
       "      <td>1</td>\n",
       "      <td>1</td>\n",
       "    </tr>\n",
       "    <tr>\n",
       "      <th>4</th>\n",
       "      <td>HL282507.1.1499 Bacteria;Firmicutes;Clostridia...</td>\n",
       "      <td>2</td>\n",
       "      <td>2</td>\n",
       "      <td>284</td>\n",
       "      <td>151</td>\n",
       "      <td>149</td>\n",
       "      <td>296</td>\n",
       "      <td>0.351935</td>\n",
       "      <td>145</td>\n",
       "      <td>2</td>\n",
       "      <td>4</td>\n",
       "      <td>0</td>\n",
       "      <td>0</td>\n",
       "      <td>2</td>\n",
       "      <td>2</td>\n",
       "    </tr>\n",
       "    <tr>\n",
       "      <th>...</th>\n",
       "      <td>...</td>\n",
       "      <td>...</td>\n",
       "      <td>...</td>\n",
       "      <td>...</td>\n",
       "      <td>...</td>\n",
       "      <td>...</td>\n",
       "      <td>...</td>\n",
       "      <td>...</td>\n",
       "      <td>...</td>\n",
       "      <td>...</td>\n",
       "      <td>...</td>\n",
       "      <td>...</td>\n",
       "      <td>...</td>\n",
       "      <td>...</td>\n",
       "      <td>...</td>\n",
       "    </tr>\n",
       "    <tr>\n",
       "      <th>11524</th>\n",
       "      <td>FMGJ01000002.297823.299313 Bacteria;Firmicutes...</td>\n",
       "      <td>1</td>\n",
       "      <td>1</td>\n",
       "      <td>131</td>\n",
       "      <td>146</td>\n",
       "      <td>141</td>\n",
       "      <td>146</td>\n",
       "      <td>0.088332</td>\n",
       "      <td>146</td>\n",
       "      <td>1</td>\n",
       "      <td>5</td>\n",
       "      <td>0</td>\n",
       "      <td>0</td>\n",
       "      <td>1</td>\n",
       "      <td>1</td>\n",
       "    </tr>\n",
       "    <tr>\n",
       "      <th>11525</th>\n",
       "      <td>FMVL01000023.1.1244 Bacteria;Firmicutes;Clostr...</td>\n",
       "      <td>1</td>\n",
       "      <td>1</td>\n",
       "      <td>50</td>\n",
       "      <td>56</td>\n",
       "      <td>54</td>\n",
       "      <td>56</td>\n",
       "      <td>0.042990</td>\n",
       "      <td>56</td>\n",
       "      <td>1</td>\n",
       "      <td>2</td>\n",
       "      <td>0</td>\n",
       "      <td>0</td>\n",
       "      <td>1</td>\n",
       "      <td>1</td>\n",
       "    </tr>\n",
       "    <tr>\n",
       "      <th>11526</th>\n",
       "      <td>FMIW01000005.418310.419846 Bacteria;Firmicutes...</td>\n",
       "      <td>9</td>\n",
       "      <td>5</td>\n",
       "      <td>1199</td>\n",
       "      <td>481</td>\n",
       "      <td>481</td>\n",
       "      <td>1199</td>\n",
       "      <td>2.068751</td>\n",
       "      <td>33</td>\n",
       "      <td>6</td>\n",
       "      <td>0</td>\n",
       "      <td>0</td>\n",
       "      <td>0</td>\n",
       "      <td>9</td>\n",
       "      <td>5</td>\n",
       "    </tr>\n",
       "    <tr>\n",
       "      <th>11527</th>\n",
       "      <td>FTLM01000021.103.1630 Bacteria;Desulfobacterot...</td>\n",
       "      <td>35</td>\n",
       "      <td>24</td>\n",
       "      <td>4595</td>\n",
       "      <td>1478</td>\n",
       "      <td>1469</td>\n",
       "      <td>4699</td>\n",
       "      <td>1.716194</td>\n",
       "      <td>0</td>\n",
       "      <td>6</td>\n",
       "      <td>33</td>\n",
       "      <td>1</td>\n",
       "      <td>0</td>\n",
       "      <td>35</td>\n",
       "      <td>24</td>\n",
       "    </tr>\n",
       "    <tr>\n",
       "      <th>11528</th>\n",
       "      <td>CLGA01000003.5074.6869 Bacteria;Firmicutes;Bac...</td>\n",
       "      <td>2</td>\n",
       "      <td>2</td>\n",
       "      <td>121</td>\n",
       "      <td>98</td>\n",
       "      <td>91</td>\n",
       "      <td>148</td>\n",
       "      <td>0.131294</td>\n",
       "      <td>50</td>\n",
       "      <td>2</td>\n",
       "      <td>9</td>\n",
       "      <td>0</td>\n",
       "      <td>0</td>\n",
       "      <td>2</td>\n",
       "      <td>2</td>\n",
       "    </tr>\n",
       "  </tbody>\n",
       "</table>\n",
       "<p>11529 rows × 15 columns</p>\n",
       "</div>"
      ],
      "text/plain": [
       "                                           # refSequence  readCount  \\\n",
       "0      HL282040.1.1532 Bacteria;Firmicutes;Clostridia...          1   \n",
       "1      HL281884.4.1372 Bacteria;Firmicutes;Clostridia...          1   \n",
       "2      HL282039.1.1487 Bacteria;Firmicutes;Clostridia...          1   \n",
       "3      HL282260.2.1394 Bacteria;Desulfobacterota;Desu...          1   \n",
       "4      HL282507.1.1499 Bacteria;Firmicutes;Clostridia...          2   \n",
       "...                                                  ...        ...   \n",
       "11524  FMGJ01000002.297823.299313 Bacteria;Firmicutes...          1   \n",
       "11525  FMVL01000023.1.1244 Bacteria;Firmicutes;Clostr...          1   \n",
       "11526  FMIW01000005.418310.419846 Bacteria;Firmicutes...          9   \n",
       "11527  FTLM01000021.103.1630 Bacteria;Desulfobacterot...         35   \n",
       "11528  CLGA01000003.5074.6869 Bacteria;Firmicutes;Bac...          2   \n",
       "\n",
       "       fragmentCount  mapScoreSum  refCoveredPositions  refConsensusSum  \\\n",
       "0                  1           53                   56               55   \n",
       "1                  1          142                  151              148   \n",
       "2                  1          109                  133              125   \n",
       "3                  1          111                  141              131   \n",
       "4                  2          284                  151              149   \n",
       "...              ...          ...                  ...              ...   \n",
       "11524              1          131                  146              141   \n",
       "11525              1           50                   56               54   \n",
       "11526              5         1199                  481              481   \n",
       "11527             24         4595                 1478             1469   \n",
       "11528              2          121                   98               91   \n",
       "\n",
       "       bpTotal  depthVariance  nucHighDepthVariance  depthMax  snpSum  \\\n",
       "0           56       0.035217                    56         1       1   \n",
       "1          151       0.098134                     0         1       3   \n",
       "2          133       0.081442                   133         1       8   \n",
       "3          141       0.090975                     0         1      10   \n",
       "4          296       0.351935                   145         2       4   \n",
       "...        ...            ...                   ...       ...     ...   \n",
       "11524      146       0.088332                   146         1       5   \n",
       "11525       56       0.042990                    56         1       2   \n",
       "11526     1199       2.068751                    33         6       0   \n",
       "11527     4699       1.716194                     0         6      33   \n",
       "11528      148       0.131294                    50         2       9   \n",
       "\n",
       "       insertSum  deletionSum  readCountAln  fragmentCountAln  \n",
       "0              0            0             1                 1  \n",
       "1              0            0             1                 1  \n",
       "2              0            0             1                 1  \n",
       "3              0            0             1                 1  \n",
       "4              0            0             2                 2  \n",
       "...          ...          ...           ...               ...  \n",
       "11524          0            0             1                 1  \n",
       "11525          0            0             1                 1  \n",
       "11526          0            0             9                 5  \n",
       "11527          1            0            35                24  \n",
       "11528          0            0             2                 2  \n",
       "\n",
       "[11529 rows x 15 columns]"
      ]
     },
     "execution_count": 36,
     "metadata": {},
     "output_type": "execute_result"
    }
   ],
   "source": [
    "pd.read_csv('./silva/silva_24.mapstat',skiprows=6,sep='\\t')"
   ]
  },
  {
   "cell_type": "code",
   "execution_count": null,
   "metadata": {},
   "outputs": [],
   "source": []
  }
 ],
 "metadata": {
  "colab": {
   "provenance": []
  },
  "kernelspec": {
   "display_name": "Python 3 (ipykernel)",
   "language": "python",
   "name": "python3"
  },
  "language_info": {
   "codemirror_mode": {
    "name": "ipython",
    "version": 3
   },
   "file_extension": ".py",
   "mimetype": "text/x-python",
   "name": "python",
   "nbconvert_exporter": "python",
   "pygments_lexer": "ipython3",
   "version": "3.10.7"
  },
  "vscode": {
   "interpreter": {
    "hash": "0dbae16fad3cb23d11ae1ccb80da1b8725e026c91e768597693cb6fa82f2faff"
   }
  }
 },
 "nbformat": 4,
 "nbformat_minor": 1
}
